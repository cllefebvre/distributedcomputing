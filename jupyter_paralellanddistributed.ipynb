{
 "cells": [
  {
   "cell_type": "code",
   "execution_count": 58,
   "metadata": {},
   "outputs": [],
   "source": [
    "import sys\n",
    "import h2o"
   ]
  },
  {
   "cell_type": "code",
   "execution_count": 59,
   "metadata": {
    "scrolled": true
   },
   "outputs": [
    {
     "name": "stdout",
     "output_type": "stream",
     "text": [
      "Checking whether there is an H2O instance running at http://localhost:54321 . connected.\n"
     ]
    },
    {
     "data": {
      "text/html": [
       "<div style=\"overflow:auto\"><table style=\"width:50%\"><tr><td>H2O cluster uptime:</td>\n",
       "<td>7 hours 17 mins</td></tr>\n",
       "<tr><td>H2O cluster timezone:</td>\n",
       "<td>Europe/Belgrade</td></tr>\n",
       "<tr><td>H2O data parsing timezone:</td>\n",
       "<td>UTC</td></tr>\n",
       "<tr><td>H2O cluster version:</td>\n",
       "<td>3.24.0.3</td></tr>\n",
       "<tr><td>H2O cluster version age:</td>\n",
       "<td>8 days </td></tr>\n",
       "<tr><td>H2O cluster name:</td>\n",
       "<td>H2O_from_python_lfbcl_p9bc6l</td></tr>\n",
       "<tr><td>H2O cluster total nodes:</td>\n",
       "<td>1</td></tr>\n",
       "<tr><td>H2O cluster free memory:</td>\n",
       "<td>1.106 Gb</td></tr>\n",
       "<tr><td>H2O cluster total cores:</td>\n",
       "<td>4</td></tr>\n",
       "<tr><td>H2O cluster allowed cores:</td>\n",
       "<td>4</td></tr>\n",
       "<tr><td>H2O cluster status:</td>\n",
       "<td>locked, healthy</td></tr>\n",
       "<tr><td>H2O connection url:</td>\n",
       "<td>http://localhost:54321</td></tr>\n",
       "<tr><td>H2O connection proxy:</td>\n",
       "<td>None</td></tr>\n",
       "<tr><td>H2O internal security:</td>\n",
       "<td>False</td></tr>\n",
       "<tr><td>H2O API Extensions:</td>\n",
       "<td>Amazon S3, Algos, AutoML, Core V3, Core V4</td></tr>\n",
       "<tr><td>Python version:</td>\n",
       "<td>3.7.1 final</td></tr></table></div>"
      ],
      "text/plain": [
       "--------------------------  ------------------------------------------\n",
       "H2O cluster uptime:         7 hours 17 mins\n",
       "H2O cluster timezone:       Europe/Belgrade\n",
       "H2O data parsing timezone:  UTC\n",
       "H2O cluster version:        3.24.0.3\n",
       "H2O cluster version age:    8 days\n",
       "H2O cluster name:           H2O_from_python_lfbcl_p9bc6l\n",
       "H2O cluster total nodes:    1\n",
       "H2O cluster free memory:    1.106 Gb\n",
       "H2O cluster total cores:    4\n",
       "H2O cluster allowed cores:  4\n",
       "H2O cluster status:         locked, healthy\n",
       "H2O connection url:         http://localhost:54321\n",
       "H2O connection proxy:\n",
       "H2O internal security:      False\n",
       "H2O API Extensions:         Amazon S3, Algos, AutoML, Core V3, Core V4\n",
       "Python version:             3.7.1 final\n",
       "--------------------------  ------------------------------------------"
      ]
     },
     "metadata": {},
     "output_type": "display_data"
    }
   ],
   "source": [
    "h2o.init()"
   ]
  },
  {
   "cell_type": "code",
   "execution_count": 60,
   "metadata": {},
   "outputs": [
    {
     "name": "stdout",
     "output_type": "stream",
     "text": [
      "Parse progress: |█████████████████████████████████████████████████████████| 100%\n",
      "Parse progress: |█████████████████████████████████████████████████████████| 100%\n",
      "Parse progress: |█████████████████████████████████████████████████████████| 100%\n"
     ]
    },
    {
     "data": {
      "text/html": [
       "<table>\n",
       "<thead>\n",
       "<tr><th style=\"text-align: right;\">   a00</th><th style=\"text-align: right;\">   a01</th><th style=\"text-align: right;\">   a02</th><th style=\"text-align: right;\">   a03</th><th style=\"text-align: right;\">   a04</th><th style=\"text-align: right;\">   a05</th><th style=\"text-align: right;\">   a06</th><th style=\"text-align: right;\">   a07</th><th style=\"text-align: right;\">   a08</th><th style=\"text-align: right;\">   a09</th><th style=\"text-align: right;\">   a10</th><th style=\"text-align: right;\">   a11</th><th style=\"text-align: right;\">   a12</th><th style=\"text-align: right;\">   a13</th><th style=\"text-align: right;\">   a14</th><th style=\"text-align: right;\">   a15</th><th style=\"text-align: right;\">   a16</th><th style=\"text-align: right;\">   a17</th><th style=\"text-align: right;\">   a18</th><th style=\"text-align: right;\">   a19</th><th style=\"text-align: right;\">   a20</th><th style=\"text-align: right;\">   a21</th><th style=\"text-align: right;\">   a22</th><th style=\"text-align: right;\">   a23</th><th style=\"text-align: right;\">   a24</th><th style=\"text-align: right;\">   a25</th><th style=\"text-align: right;\">   a26</th><th style=\"text-align: right;\">   a27</th><th style=\"text-align: right;\">   a28</th><th style=\"text-align: right;\">   a29</th><th style=\"text-align: right;\">   a30</th><th style=\"text-align: right;\">   a31</th><th style=\"text-align: right;\">   a32</th><th style=\"text-align: right;\">   a33</th><th style=\"text-align: right;\">   a34</th><th style=\"text-align: right;\">   a35</th><th style=\"text-align: right;\">   a36</th><th style=\"text-align: right;\">   a37</th><th style=\"text-align: right;\">   a38</th><th style=\"text-align: right;\">   a39</th><th style=\"text-align: right;\">   a40</th><th style=\"text-align: right;\">   a41</th><th style=\"text-align: right;\">   a42</th><th style=\"text-align: right;\">   a43</th><th style=\"text-align: right;\">   a44</th><th style=\"text-align: right;\">   a45</th><th style=\"text-align: right;\">   a46</th><th style=\"text-align: right;\">   a47</th><th style=\"text-align: right;\">   a48</th><th style=\"text-align: right;\">   a49</th><th style=\"text-align: right;\">   a50</th><th style=\"text-align: right;\">   a51</th><th style=\"text-align: right;\">   a52</th><th style=\"text-align: right;\">   a53</th><th style=\"text-align: right;\">   a54</th><th style=\"text-align: right;\">   a55</th><th style=\"text-align: right;\">   a56</th><th style=\"text-align: right;\">   a57</th><th style=\"text-align: right;\">   a58</th><th style=\"text-align: right;\">   a59</th><th>class  </th></tr>\n",
       "</thead>\n",
       "<tbody>\n",
       "<tr><td style=\"text-align: right;\">0.02  </td><td style=\"text-align: right;\">0.0371</td><td style=\"text-align: right;\">0.0428</td><td style=\"text-align: right;\">0.0207</td><td style=\"text-align: right;\">0.0954</td><td style=\"text-align: right;\">0.0986</td><td style=\"text-align: right;\">0.1539</td><td style=\"text-align: right;\">0.1601</td><td style=\"text-align: right;\">0.3109</td><td style=\"text-align: right;\">0.2111</td><td style=\"text-align: right;\">0.1609</td><td style=\"text-align: right;\">0.1582</td><td style=\"text-align: right;\">0.2238</td><td style=\"text-align: right;\">0.0645</td><td style=\"text-align: right;\">0.066 </td><td style=\"text-align: right;\">0.2273</td><td style=\"text-align: right;\">0.31  </td><td style=\"text-align: right;\">0.2999</td><td style=\"text-align: right;\">0.5078</td><td style=\"text-align: right;\">0.4797</td><td style=\"text-align: right;\">0.5783</td><td style=\"text-align: right;\">0.5071</td><td style=\"text-align: right;\">0.4328</td><td style=\"text-align: right;\">0.555 </td><td style=\"text-align: right;\">0.6711</td><td style=\"text-align: right;\">0.6415</td><td style=\"text-align: right;\">0.7104</td><td style=\"text-align: right;\">0.808 </td><td style=\"text-align: right;\">0.6791</td><td style=\"text-align: right;\">0.3857</td><td style=\"text-align: right;\">0.1307</td><td style=\"text-align: right;\">0.2604</td><td style=\"text-align: right;\">0.5121</td><td style=\"text-align: right;\">0.7547</td><td style=\"text-align: right;\">0.8537</td><td style=\"text-align: right;\">0.8507</td><td style=\"text-align: right;\">0.6692</td><td style=\"text-align: right;\">0.6097</td><td style=\"text-align: right;\">0.4943</td><td style=\"text-align: right;\">0.2744</td><td style=\"text-align: right;\">0.051 </td><td style=\"text-align: right;\">0.2834</td><td style=\"text-align: right;\">0.2825</td><td style=\"text-align: right;\">0.4256</td><td style=\"text-align: right;\">0.2641</td><td style=\"text-align: right;\">0.1386</td><td style=\"text-align: right;\">0.1051</td><td style=\"text-align: right;\">0.1343</td><td style=\"text-align: right;\">0.0383</td><td style=\"text-align: right;\">0.0324</td><td style=\"text-align: right;\">0.0232</td><td style=\"text-align: right;\">0.0027</td><td style=\"text-align: right;\">0.0065</td><td style=\"text-align: right;\">0.0159</td><td style=\"text-align: right;\">0.0072</td><td style=\"text-align: right;\">0.0167</td><td style=\"text-align: right;\">0.018 </td><td style=\"text-align: right;\">0.0084</td><td style=\"text-align: right;\">0.009 </td><td style=\"text-align: right;\">0.0032</td><td>R      </td></tr>\n",
       "<tr><td style=\"text-align: right;\">0.0453</td><td style=\"text-align: right;\">0.0523</td><td style=\"text-align: right;\">0.0843</td><td style=\"text-align: right;\">0.0689</td><td style=\"text-align: right;\">0.1183</td><td style=\"text-align: right;\">0.2583</td><td style=\"text-align: right;\">0.2156</td><td style=\"text-align: right;\">0.3481</td><td style=\"text-align: right;\">0.3337</td><td style=\"text-align: right;\">0.2872</td><td style=\"text-align: right;\">0.4918</td><td style=\"text-align: right;\">0.6552</td><td style=\"text-align: right;\">0.6919</td><td style=\"text-align: right;\">0.7797</td><td style=\"text-align: right;\">0.7464</td><td style=\"text-align: right;\">0.9444</td><td style=\"text-align: right;\">1     </td><td style=\"text-align: right;\">0.8874</td><td style=\"text-align: right;\">0.8024</td><td style=\"text-align: right;\">0.7818</td><td style=\"text-align: right;\">0.5212</td><td style=\"text-align: right;\">0.4052</td><td style=\"text-align: right;\">0.3957</td><td style=\"text-align: right;\">0.3914</td><td style=\"text-align: right;\">0.325 </td><td style=\"text-align: right;\">0.32  </td><td style=\"text-align: right;\">0.3271</td><td style=\"text-align: right;\">0.2767</td><td style=\"text-align: right;\">0.4423</td><td style=\"text-align: right;\">0.2028</td><td style=\"text-align: right;\">0.3788</td><td style=\"text-align: right;\">0.2947</td><td style=\"text-align: right;\">0.1984</td><td style=\"text-align: right;\">0.2341</td><td style=\"text-align: right;\">0.1306</td><td style=\"text-align: right;\">0.4182</td><td style=\"text-align: right;\">0.3835</td><td style=\"text-align: right;\">0.1057</td><td style=\"text-align: right;\">0.184 </td><td style=\"text-align: right;\">0.197 </td><td style=\"text-align: right;\">0.1674</td><td style=\"text-align: right;\">0.0583</td><td style=\"text-align: right;\">0.1401</td><td style=\"text-align: right;\">0.1628</td><td style=\"text-align: right;\">0.0621</td><td style=\"text-align: right;\">0.0203</td><td style=\"text-align: right;\">0.053 </td><td style=\"text-align: right;\">0.0742</td><td style=\"text-align: right;\">0.0409</td><td style=\"text-align: right;\">0.0061</td><td style=\"text-align: right;\">0.0125</td><td style=\"text-align: right;\">0.0084</td><td style=\"text-align: right;\">0.0089</td><td style=\"text-align: right;\">0.0048</td><td style=\"text-align: right;\">0.0094</td><td style=\"text-align: right;\">0.0191</td><td style=\"text-align: right;\">0.014 </td><td style=\"text-align: right;\">0.0049</td><td style=\"text-align: right;\">0.0052</td><td style=\"text-align: right;\">0.0044</td><td>R      </td></tr>\n",
       "<tr><td style=\"text-align: right;\">0.0262</td><td style=\"text-align: right;\">0.0582</td><td style=\"text-align: right;\">0.1099</td><td style=\"text-align: right;\">0.1083</td><td style=\"text-align: right;\">0.0974</td><td style=\"text-align: right;\">0.228 </td><td style=\"text-align: right;\">0.2431</td><td style=\"text-align: right;\">0.3771</td><td style=\"text-align: right;\">0.5598</td><td style=\"text-align: right;\">0.6194</td><td style=\"text-align: right;\">0.6333</td><td style=\"text-align: right;\">0.706 </td><td style=\"text-align: right;\">0.5544</td><td style=\"text-align: right;\">0.532 </td><td style=\"text-align: right;\">0.6479</td><td style=\"text-align: right;\">0.6931</td><td style=\"text-align: right;\">0.6759</td><td style=\"text-align: right;\">0.7551</td><td style=\"text-align: right;\">0.8929</td><td style=\"text-align: right;\">0.8619</td><td style=\"text-align: right;\">0.7974</td><td style=\"text-align: right;\">0.6737</td><td style=\"text-align: right;\">0.4293</td><td style=\"text-align: right;\">0.3648</td><td style=\"text-align: right;\">0.5331</td><td style=\"text-align: right;\">0.2413</td><td style=\"text-align: right;\">0.507 </td><td style=\"text-align: right;\">0.8533</td><td style=\"text-align: right;\">0.6036</td><td style=\"text-align: right;\">0.8514</td><td style=\"text-align: right;\">0.8512</td><td style=\"text-align: right;\">0.5045</td><td style=\"text-align: right;\">0.1862</td><td style=\"text-align: right;\">0.2709</td><td style=\"text-align: right;\">0.4232</td><td style=\"text-align: right;\">0.3043</td><td style=\"text-align: right;\">0.6116</td><td style=\"text-align: right;\">0.6756</td><td style=\"text-align: right;\">0.5375</td><td style=\"text-align: right;\">0.4719</td><td style=\"text-align: right;\">0.4647</td><td style=\"text-align: right;\">0.2587</td><td style=\"text-align: right;\">0.2129</td><td style=\"text-align: right;\">0.2222</td><td style=\"text-align: right;\">0.2111</td><td style=\"text-align: right;\">0.0176</td><td style=\"text-align: right;\">0.1348</td><td style=\"text-align: right;\">0.0744</td><td style=\"text-align: right;\">0.013 </td><td style=\"text-align: right;\">0.0106</td><td style=\"text-align: right;\">0.0033</td><td style=\"text-align: right;\">0.0232</td><td style=\"text-align: right;\">0.0166</td><td style=\"text-align: right;\">0.0095</td><td style=\"text-align: right;\">0.018 </td><td style=\"text-align: right;\">0.0244</td><td style=\"text-align: right;\">0.0316</td><td style=\"text-align: right;\">0.0164</td><td style=\"text-align: right;\">0.0095</td><td style=\"text-align: right;\">0.0078</td><td>R      </td></tr>\n",
       "<tr><td style=\"text-align: right;\">0.01  </td><td style=\"text-align: right;\">0.0171</td><td style=\"text-align: right;\">0.0623</td><td style=\"text-align: right;\">0.0205</td><td style=\"text-align: right;\">0.0205</td><td style=\"text-align: right;\">0.0368</td><td style=\"text-align: right;\">0.1098</td><td style=\"text-align: right;\">0.1276</td><td style=\"text-align: right;\">0.0598</td><td style=\"text-align: right;\">0.1264</td><td style=\"text-align: right;\">0.0881</td><td style=\"text-align: right;\">0.1992</td><td style=\"text-align: right;\">0.0184</td><td style=\"text-align: right;\">0.2261</td><td style=\"text-align: right;\">0.1729</td><td style=\"text-align: right;\">0.2131</td><td style=\"text-align: right;\">0.0693</td><td style=\"text-align: right;\">0.2281</td><td style=\"text-align: right;\">0.406 </td><td style=\"text-align: right;\">0.3973</td><td style=\"text-align: right;\">0.2741</td><td style=\"text-align: right;\">0.369 </td><td style=\"text-align: right;\">0.5556</td><td style=\"text-align: right;\">0.4846</td><td style=\"text-align: right;\">0.314 </td><td style=\"text-align: right;\">0.5334</td><td style=\"text-align: right;\">0.5256</td><td style=\"text-align: right;\">0.252 </td><td style=\"text-align: right;\">0.209 </td><td style=\"text-align: right;\">0.3559</td><td style=\"text-align: right;\">0.626 </td><td style=\"text-align: right;\">0.734 </td><td style=\"text-align: right;\">0.612 </td><td style=\"text-align: right;\">0.3497</td><td style=\"text-align: right;\">0.3953</td><td style=\"text-align: right;\">0.3012</td><td style=\"text-align: right;\">0.5408</td><td style=\"text-align: right;\">0.8814</td><td style=\"text-align: right;\">0.9857</td><td style=\"text-align: right;\">0.9167</td><td style=\"text-align: right;\">0.6121</td><td style=\"text-align: right;\">0.5006</td><td style=\"text-align: right;\">0.321 </td><td style=\"text-align: right;\">0.3202</td><td style=\"text-align: right;\">0.4295</td><td style=\"text-align: right;\">0.3654</td><td style=\"text-align: right;\">0.2655</td><td style=\"text-align: right;\">0.1576</td><td style=\"text-align: right;\">0.0681</td><td style=\"text-align: right;\">0.0294</td><td style=\"text-align: right;\">0.0241</td><td style=\"text-align: right;\">0.0121</td><td style=\"text-align: right;\">0.0036</td><td style=\"text-align: right;\">0.015 </td><td style=\"text-align: right;\">0.0085</td><td style=\"text-align: right;\">0.0073</td><td style=\"text-align: right;\">0.005 </td><td style=\"text-align: right;\">0.0044</td><td style=\"text-align: right;\">0.004 </td><td style=\"text-align: right;\">0.0117</td><td>R      </td></tr>\n",
       "<tr><td style=\"text-align: right;\">0.0762</td><td style=\"text-align: right;\">0.0666</td><td style=\"text-align: right;\">0.0481</td><td style=\"text-align: right;\">0.0394</td><td style=\"text-align: right;\">0.059 </td><td style=\"text-align: right;\">0.0649</td><td style=\"text-align: right;\">0.1209</td><td style=\"text-align: right;\">0.2467</td><td style=\"text-align: right;\">0.3564</td><td style=\"text-align: right;\">0.4459</td><td style=\"text-align: right;\">0.4152</td><td style=\"text-align: right;\">0.3952</td><td style=\"text-align: right;\">0.4256</td><td style=\"text-align: right;\">0.4135</td><td style=\"text-align: right;\">0.4528</td><td style=\"text-align: right;\">0.5326</td><td style=\"text-align: right;\">0.7306</td><td style=\"text-align: right;\">0.6193</td><td style=\"text-align: right;\">0.2032</td><td style=\"text-align: right;\">0.4636</td><td style=\"text-align: right;\">0.4148</td><td style=\"text-align: right;\">0.4292</td><td style=\"text-align: right;\">0.573 </td><td style=\"text-align: right;\">0.5399</td><td style=\"text-align: right;\">0.3161</td><td style=\"text-align: right;\">0.2285</td><td style=\"text-align: right;\">0.6995</td><td style=\"text-align: right;\">1     </td><td style=\"text-align: right;\">0.7262</td><td style=\"text-align: right;\">0.4724</td><td style=\"text-align: right;\">0.5103</td><td style=\"text-align: right;\">0.5459</td><td style=\"text-align: right;\">0.2881</td><td style=\"text-align: right;\">0.0981</td><td style=\"text-align: right;\">0.1951</td><td style=\"text-align: right;\">0.4181</td><td style=\"text-align: right;\">0.4604</td><td style=\"text-align: right;\">0.3217</td><td style=\"text-align: right;\">0.2828</td><td style=\"text-align: right;\">0.243 </td><td style=\"text-align: right;\">0.1979</td><td style=\"text-align: right;\">0.2444</td><td style=\"text-align: right;\">0.1847</td><td style=\"text-align: right;\">0.0841</td><td style=\"text-align: right;\">0.0692</td><td style=\"text-align: right;\">0.0528</td><td style=\"text-align: right;\">0.0357</td><td style=\"text-align: right;\">0.0085</td><td style=\"text-align: right;\">0.023 </td><td style=\"text-align: right;\">0.0046</td><td style=\"text-align: right;\">0.0156</td><td style=\"text-align: right;\">0.0031</td><td style=\"text-align: right;\">0.0054</td><td style=\"text-align: right;\">0.0105</td><td style=\"text-align: right;\">0.011 </td><td style=\"text-align: right;\">0.0015</td><td style=\"text-align: right;\">0.0072</td><td style=\"text-align: right;\">0.0048</td><td style=\"text-align: right;\">0.0107</td><td style=\"text-align: right;\">0.0094</td><td>R      </td></tr>\n",
       "<tr><td style=\"text-align: right;\">0.0286</td><td style=\"text-align: right;\">0.0453</td><td style=\"text-align: right;\">0.0277</td><td style=\"text-align: right;\">0.0174</td><td style=\"text-align: right;\">0.0384</td><td style=\"text-align: right;\">0.099 </td><td style=\"text-align: right;\">0.1201</td><td style=\"text-align: right;\">0.1833</td><td style=\"text-align: right;\">0.2105</td><td style=\"text-align: right;\">0.3039</td><td style=\"text-align: right;\">0.2988</td><td style=\"text-align: right;\">0.425 </td><td style=\"text-align: right;\">0.6343</td><td style=\"text-align: right;\">0.8198</td><td style=\"text-align: right;\">1     </td><td style=\"text-align: right;\">0.9988</td><td style=\"text-align: right;\">0.9508</td><td style=\"text-align: right;\">0.9025</td><td style=\"text-align: right;\">0.7234</td><td style=\"text-align: right;\">0.5122</td><td style=\"text-align: right;\">0.2074</td><td style=\"text-align: right;\">0.3985</td><td style=\"text-align: right;\">0.589 </td><td style=\"text-align: right;\">0.2872</td><td style=\"text-align: right;\">0.2043</td><td style=\"text-align: right;\">0.5782</td><td style=\"text-align: right;\">0.5389</td><td style=\"text-align: right;\">0.375 </td><td style=\"text-align: right;\">0.3411</td><td style=\"text-align: right;\">0.5067</td><td style=\"text-align: right;\">0.558 </td><td style=\"text-align: right;\">0.4778</td><td style=\"text-align: right;\">0.3299</td><td style=\"text-align: right;\">0.2198</td><td style=\"text-align: right;\">0.1407</td><td style=\"text-align: right;\">0.2856</td><td style=\"text-align: right;\">0.3807</td><td style=\"text-align: right;\">0.4158</td><td style=\"text-align: right;\">0.4054</td><td style=\"text-align: right;\">0.3296</td><td style=\"text-align: right;\">0.2707</td><td style=\"text-align: right;\">0.265 </td><td style=\"text-align: right;\">0.0723</td><td style=\"text-align: right;\">0.1238</td><td style=\"text-align: right;\">0.1192</td><td style=\"text-align: right;\">0.1089</td><td style=\"text-align: right;\">0.0623</td><td style=\"text-align: right;\">0.0494</td><td style=\"text-align: right;\">0.0264</td><td style=\"text-align: right;\">0.0081</td><td style=\"text-align: right;\">0.0104</td><td style=\"text-align: right;\">0.0045</td><td style=\"text-align: right;\">0.0014</td><td style=\"text-align: right;\">0.0038</td><td style=\"text-align: right;\">0.0013</td><td style=\"text-align: right;\">0.0089</td><td style=\"text-align: right;\">0.0057</td><td style=\"text-align: right;\">0.0027</td><td style=\"text-align: right;\">0.0051</td><td style=\"text-align: right;\">0.0062</td><td>R      </td></tr>\n",
       "<tr><td style=\"text-align: right;\">0.0317</td><td style=\"text-align: right;\">0.0956</td><td style=\"text-align: right;\">0.1321</td><td style=\"text-align: right;\">0.1408</td><td style=\"text-align: right;\">0.1674</td><td style=\"text-align: right;\">0.171 </td><td style=\"text-align: right;\">0.0731</td><td style=\"text-align: right;\">0.1401</td><td style=\"text-align: right;\">0.2083</td><td style=\"text-align: right;\">0.3513</td><td style=\"text-align: right;\">0.1786</td><td style=\"text-align: right;\">0.0658</td><td style=\"text-align: right;\">0.0513</td><td style=\"text-align: right;\">0.3752</td><td style=\"text-align: right;\">0.5419</td><td style=\"text-align: right;\">0.544 </td><td style=\"text-align: right;\">0.515 </td><td style=\"text-align: right;\">0.4262</td><td style=\"text-align: right;\">0.2024</td><td style=\"text-align: right;\">0.4233</td><td style=\"text-align: right;\">0.7723</td><td style=\"text-align: right;\">0.9735</td><td style=\"text-align: right;\">0.939 </td><td style=\"text-align: right;\">0.5559</td><td style=\"text-align: right;\">0.5268</td><td style=\"text-align: right;\">0.6826</td><td style=\"text-align: right;\">0.5713</td><td style=\"text-align: right;\">0.5429</td><td style=\"text-align: right;\">0.2177</td><td style=\"text-align: right;\">0.2149</td><td style=\"text-align: right;\">0.5811</td><td style=\"text-align: right;\">0.6323</td><td style=\"text-align: right;\">0.2965</td><td style=\"text-align: right;\">0.1873</td><td style=\"text-align: right;\">0.2969</td><td style=\"text-align: right;\">0.5163</td><td style=\"text-align: right;\">0.6153</td><td style=\"text-align: right;\">0.4283</td><td style=\"text-align: right;\">0.5479</td><td style=\"text-align: right;\">0.6133</td><td style=\"text-align: right;\">0.5017</td><td style=\"text-align: right;\">0.2377</td><td style=\"text-align: right;\">0.1957</td><td style=\"text-align: right;\">0.1749</td><td style=\"text-align: right;\">0.1304</td><td style=\"text-align: right;\">0.0597</td><td style=\"text-align: right;\">0.1124</td><td style=\"text-align: right;\">0.1047</td><td style=\"text-align: right;\">0.0507</td><td style=\"text-align: right;\">0.0159</td><td style=\"text-align: right;\">0.0195</td><td style=\"text-align: right;\">0.0201</td><td style=\"text-align: right;\">0.0248</td><td style=\"text-align: right;\">0.0131</td><td style=\"text-align: right;\">0.007 </td><td style=\"text-align: right;\">0.0138</td><td style=\"text-align: right;\">0.0092</td><td style=\"text-align: right;\">0.0143</td><td style=\"text-align: right;\">0.0036</td><td style=\"text-align: right;\">0.0103</td><td>R      </td></tr>\n",
       "<tr><td style=\"text-align: right;\">0.0519</td><td style=\"text-align: right;\">0.0548</td><td style=\"text-align: right;\">0.0842</td><td style=\"text-align: right;\">0.0319</td><td style=\"text-align: right;\">0.1158</td><td style=\"text-align: right;\">0.0922</td><td style=\"text-align: right;\">0.1027</td><td style=\"text-align: right;\">0.0613</td><td style=\"text-align: right;\">0.1465</td><td style=\"text-align: right;\">0.2838</td><td style=\"text-align: right;\">0.2802</td><td style=\"text-align: right;\">0.3086</td><td style=\"text-align: right;\">0.2657</td><td style=\"text-align: right;\">0.3801</td><td style=\"text-align: right;\">0.5626</td><td style=\"text-align: right;\">0.4376</td><td style=\"text-align: right;\">0.2617</td><td style=\"text-align: right;\">0.1199</td><td style=\"text-align: right;\">0.6676</td><td style=\"text-align: right;\">0.9402</td><td style=\"text-align: right;\">0.7832</td><td style=\"text-align: right;\">0.5352</td><td style=\"text-align: right;\">0.6809</td><td style=\"text-align: right;\">0.9174</td><td style=\"text-align: right;\">0.7613</td><td style=\"text-align: right;\">0.822 </td><td style=\"text-align: right;\">0.8872</td><td style=\"text-align: right;\">0.6091</td><td style=\"text-align: right;\">0.2967</td><td style=\"text-align: right;\">0.1103</td><td style=\"text-align: right;\">0.1318</td><td style=\"text-align: right;\">0.0624</td><td style=\"text-align: right;\">0.099 </td><td style=\"text-align: right;\">0.4006</td><td style=\"text-align: right;\">0.3666</td><td style=\"text-align: right;\">0.105 </td><td style=\"text-align: right;\">0.1915</td><td style=\"text-align: right;\">0.393 </td><td style=\"text-align: right;\">0.4288</td><td style=\"text-align: right;\">0.2546</td><td style=\"text-align: right;\">0.1151</td><td style=\"text-align: right;\">0.2196</td><td style=\"text-align: right;\">0.1879</td><td style=\"text-align: right;\">0.1437</td><td style=\"text-align: right;\">0.2146</td><td style=\"text-align: right;\">0.236 </td><td style=\"text-align: right;\">0.1125</td><td style=\"text-align: right;\">0.0254</td><td style=\"text-align: right;\">0.0285</td><td style=\"text-align: right;\">0.0178</td><td style=\"text-align: right;\">0.0052</td><td style=\"text-align: right;\">0.0081</td><td style=\"text-align: right;\">0.012 </td><td style=\"text-align: right;\">0.0045</td><td style=\"text-align: right;\">0.0121</td><td style=\"text-align: right;\">0.0097</td><td style=\"text-align: right;\">0.0085</td><td style=\"text-align: right;\">0.0047</td><td style=\"text-align: right;\">0.0048</td><td style=\"text-align: right;\">0.0053</td><td>R      </td></tr>\n",
       "<tr><td style=\"text-align: right;\">0.0223</td><td style=\"text-align: right;\">0.0375</td><td style=\"text-align: right;\">0.0484</td><td style=\"text-align: right;\">0.0475</td><td style=\"text-align: right;\">0.0647</td><td style=\"text-align: right;\">0.0591</td><td style=\"text-align: right;\">0.0753</td><td style=\"text-align: right;\">0.0098</td><td style=\"text-align: right;\">0.0684</td><td style=\"text-align: right;\">0.1487</td><td style=\"text-align: right;\">0.1156</td><td style=\"text-align: right;\">0.1654</td><td style=\"text-align: right;\">0.3833</td><td style=\"text-align: right;\">0.3598</td><td style=\"text-align: right;\">0.1713</td><td style=\"text-align: right;\">0.1136</td><td style=\"text-align: right;\">0.0349</td><td style=\"text-align: right;\">0.3796</td><td style=\"text-align: right;\">0.7401</td><td style=\"text-align: right;\">0.9925</td><td style=\"text-align: right;\">0.9802</td><td style=\"text-align: right;\">0.889 </td><td style=\"text-align: right;\">0.6712</td><td style=\"text-align: right;\">0.4286</td><td style=\"text-align: right;\">0.3374</td><td style=\"text-align: right;\">0.7366</td><td style=\"text-align: right;\">0.9611</td><td style=\"text-align: right;\">0.7353</td><td style=\"text-align: right;\">0.4856</td><td style=\"text-align: right;\">0.1594</td><td style=\"text-align: right;\">0.3007</td><td style=\"text-align: right;\">0.4096</td><td style=\"text-align: right;\">0.317 </td><td style=\"text-align: right;\">0.3305</td><td style=\"text-align: right;\">0.3408</td><td style=\"text-align: right;\">0.2186</td><td style=\"text-align: right;\">0.2463</td><td style=\"text-align: right;\">0.2726</td><td style=\"text-align: right;\">0.168 </td><td style=\"text-align: right;\">0.2792</td><td style=\"text-align: right;\">0.2558</td><td style=\"text-align: right;\">0.174 </td><td style=\"text-align: right;\">0.2121</td><td style=\"text-align: right;\">0.1099</td><td style=\"text-align: right;\">0.0985</td><td style=\"text-align: right;\">0.1271</td><td style=\"text-align: right;\">0.1459</td><td style=\"text-align: right;\">0.1164</td><td style=\"text-align: right;\">0.0777</td><td style=\"text-align: right;\">0.0439</td><td style=\"text-align: right;\">0.0061</td><td style=\"text-align: right;\">0.0145</td><td style=\"text-align: right;\">0.0128</td><td style=\"text-align: right;\">0.0145</td><td style=\"text-align: right;\">0.0058</td><td style=\"text-align: right;\">0.0049</td><td style=\"text-align: right;\">0.0065</td><td style=\"text-align: right;\">0.0093</td><td style=\"text-align: right;\">0.0059</td><td style=\"text-align: right;\">0.0022</td><td>R      </td></tr>\n",
       "<tr><td style=\"text-align: right;\">0.0164</td><td style=\"text-align: right;\">0.0173</td><td style=\"text-align: right;\">0.0347</td><td style=\"text-align: right;\">0.007 </td><td style=\"text-align: right;\">0.0187</td><td style=\"text-align: right;\">0.0671</td><td style=\"text-align: right;\">0.1056</td><td style=\"text-align: right;\">0.0697</td><td style=\"text-align: right;\">0.0962</td><td style=\"text-align: right;\">0.0251</td><td style=\"text-align: right;\">0.0801</td><td style=\"text-align: right;\">0.1056</td><td style=\"text-align: right;\">0.1266</td><td style=\"text-align: right;\">0.089 </td><td style=\"text-align: right;\">0.0198</td><td style=\"text-align: right;\">0.1133</td><td style=\"text-align: right;\">0.2826</td><td style=\"text-align: right;\">0.3234</td><td style=\"text-align: right;\">0.3238</td><td style=\"text-align: right;\">0.4333</td><td style=\"text-align: right;\">0.6068</td><td style=\"text-align: right;\">0.7652</td><td style=\"text-align: right;\">0.9203</td><td style=\"text-align: right;\">0.9719</td><td style=\"text-align: right;\">0.9207</td><td style=\"text-align: right;\">0.7545</td><td style=\"text-align: right;\">0.8289</td><td style=\"text-align: right;\">0.8907</td><td style=\"text-align: right;\">0.7309</td><td style=\"text-align: right;\">0.6896</td><td style=\"text-align: right;\">0.5829</td><td style=\"text-align: right;\">0.4935</td><td style=\"text-align: right;\">0.3101</td><td style=\"text-align: right;\">0.0306</td><td style=\"text-align: right;\">0.0244</td><td style=\"text-align: right;\">0.1108</td><td style=\"text-align: right;\">0.1594</td><td style=\"text-align: right;\">0.1371</td><td style=\"text-align: right;\">0.0696</td><td style=\"text-align: right;\">0.0452</td><td style=\"text-align: right;\">0.062 </td><td style=\"text-align: right;\">0.1421</td><td style=\"text-align: right;\">0.1597</td><td style=\"text-align: right;\">0.1384</td><td style=\"text-align: right;\">0.0372</td><td style=\"text-align: right;\">0.0688</td><td style=\"text-align: right;\">0.0867</td><td style=\"text-align: right;\">0.0513</td><td style=\"text-align: right;\">0.0092</td><td style=\"text-align: right;\">0.0198</td><td style=\"text-align: right;\">0.0118</td><td style=\"text-align: right;\">0.009 </td><td style=\"text-align: right;\">0.0223</td><td style=\"text-align: right;\">0.0179</td><td style=\"text-align: right;\">0.0084</td><td style=\"text-align: right;\">0.0068</td><td style=\"text-align: right;\">0.0032</td><td style=\"text-align: right;\">0.0035</td><td style=\"text-align: right;\">0.0056</td><td style=\"text-align: right;\">0.004 </td><td>R      </td></tr>\n",
       "</tbody>\n",
       "</table>"
      ]
     },
     "metadata": {},
     "output_type": "display_data"
    },
    {
     "name": "stdout",
     "output_type": "stream",
     "text": [
      "\n"
     ]
    }
   ],
   "source": [
    "from sklearn.model_selection import train_test_split\n",
    "import time\n",
    "import pandas as pd\n",
    "iris=h2o.import_file(path='https://archive.ics.uci.edu/ml/machine-learning-databases/iris/iris.data')\n",
    "votes=h2o.import_file(path='https://archive.ics.uci.edu/ml/machine-learning-databases/voting-records/house-votes-84.data')\n",
    "sonar=h2o.import_file(path=r'C:\\Users\\lfbcl\\OneDrive\\Bureau\\Paralel\\sonar_UCI.csv')\n",
    "\n",
    "print(sonar)"
   ]
  },
  {
   "cell_type": "code",
   "execution_count": 61,
   "metadata": {},
   "outputs": [],
   "source": [
    "#Split  into Train/Test/Validation\n",
    "train_iris,test_iris = iris.split_frame(ratios=[.7])\n",
    "train_votes,test_votes = votes.split_frame(ratios=[.7])\n",
    "train_sonar,test_sonar = sonar.split_frame(ratios=[.7])"
   ]
  },
  {
   "cell_type": "code",
   "execution_count": 64,
   "metadata": {},
   "outputs": [
    {
     "name": "stdout",
     "output_type": "stream",
     "text": [
      "deeplearning Model Build progress: |██████████████████████████████████████| 100%\n",
      "deeplearning Model Build progress: |██████████████████████████████████████| 100%\n",
      "deeplearning Model Build progress: |██████████████████████████████████████| 100%\n",
      "deeplearning Model Build progress: |██████████████████████████████████████| 100%\n",
      "deeplearning Model Build progress: |██████████████████████████████████████| 100%\n",
      "deeplearning Model Build progress: |██████████████████████████████████████| 100%\n",
      "deeplearning Model Build progress: |██████████████████████████████████████| 100%\n",
      "deeplearning Model Build progress: |██████████████████████████████████████| 100%\n",
      "deeplearning Model Build progress: |██████████████████████████████████████| 100%\n",
      "deeplearning Model Build progress: |██████████████████████████████████████| 100%\n",
      "deeplearning Model Build progress: |██████████████████████████████████████| 100%\n",
      "deeplearning Model Build progress: |██████████████████████████████████████| 100%\n",
      "deeplearning Model Build progress: |██████████████████████████████████████| 100%\n",
      "deeplearning Model Build progress: |██████████████████████████████████████| 100%\n",
      "deeplearning Model Build progress: |██████████████████████████████████████| 100%\n",
      "deeplearning Model Build progress: |██████████████████████████████████████| 100%\n",
      "deeplearning Model Build progress: |██████████████████████████████████████| 100%\n",
      "deeplearning Model Build progress: |██████████████████████████████████████| 100%\n",
      "    title            activation  nfolds      rmse\n",
      "0    iris                  Tanh       1  0.167414\n",
      "1    iris  RectifierWithDropout       1  0.481821\n",
      "2    iris                  Tanh       5  0.282463\n",
      "3    iris  RectifierWithDropout       5  0.498116\n",
      "4    iris                  Tanh      10  0.307863\n",
      "5    iris  RectifierWithDropout      10  0.642321\n",
      "6   votes                  Tanh       1  0.175493\n",
      "7   votes  RectifierWithDropout       1  0.201984\n",
      "8   votes                  Tanh       5  0.154668\n",
      "9   votes  RectifierWithDropout       5  0.224594\n",
      "10  votes                  Tanh      10  0.175555\n",
      "11  votes  RectifierWithDropout      10  0.231971\n",
      "12  sonar                  Tanh       1  0.459906\n",
      "13  sonar  RectifierWithDropout       1  0.460157\n",
      "14  sonar                  Tanh       5  0.435289\n",
      "15  sonar  RectifierWithDropout       5  0.644257\n",
      "16  sonar                  Tanh      10  0.429807\n",
      "17  sonar  RectifierWithDropout      10  0.477658\n"
     ]
    }
   ],
   "source": [
    "#The different datasets we want to test\n",
    "x_iris=train_iris.names[0:4]\n",
    "y_iris='C5'\n",
    "x_votes=train_votes.names[1:17]\n",
    "y_votes='C1'\n",
    "x_sonar=train_sonar.names[0:59]\n",
    "y_sonar='class'\n",
    "datasets=[['iris',x_iris,y_iris,train_iris,test_iris],['votes',x_votes,y_votes,train_votes,test_votes],['sonar',x_sonar,y_sonar,train_sonar,test_sonar]]\n",
    "\n",
    "#The parameters we are going to test\n",
    "nfolds=[0,4,9]\n",
    "activations=['Tanh', 'RectifierWithDropout']\n",
    "\n",
    "#The outputs we want in our table\n",
    "activation_final=[]\n",
    "nfolds_final=[]\n",
    "rmse_final=[]\n",
    "title_final=[]\n",
    "\n",
    "from h2o.estimators.deeplearning import H2ODeepLearningEstimator\n",
    "for dataset in datasets:\n",
    "    for nfold in nfolds :\n",
    "        for activation_function in activations:\n",
    "            model = H2ODeepLearningEstimator(\n",
    "                                            hidden=[5,20,100],\n",
    "                                            nfolds=nfold,\n",
    "                                            activation=activation_function\n",
    "                                            )\n",
    "            model.train(x=dataset[1], y=dataset[2], training_frame=dataset[3])\n",
    "            perf_iris=model.model_performance(dataset[4])\n",
    "            #Outputs\n",
    "            activation_final.append(model.activation)\n",
    "            nfolds_final.append(model.nfolds+1)\n",
    "            rmse_final.append(perf_iris.rmse())\n",
    "            title_final.append(dataset[0])\n",
    "            \n",
    "#Now let's show our results\n",
    "import pandas as pd\n",
    "dico={'title':title_final,'activation': activation_final, 'nfolds':nfolds_final, 'rmse': rmse_final}\n",
    "results=pd.DataFrame(data=dico)\n",
    "print(results)"
   ]
  },
  {
   "cell_type": "code",
   "execution_count": null,
   "metadata": {},
   "outputs": [],
   "source": []
  }
 ],
 "metadata": {
  "kernelspec": {
   "display_name": "Python 3",
   "language": "python",
   "name": "python3"
  },
  "language_info": {
   "codemirror_mode": {
    "name": "ipython",
    "version": 3
   },
   "file_extension": ".py",
   "mimetype": "text/x-python",
   "name": "python",
   "nbconvert_exporter": "python",
   "pygments_lexer": "ipython3",
   "version": "3.7.1"
  }
 },
 "nbformat": 4,
 "nbformat_minor": 2
}
